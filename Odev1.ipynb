{
  "nbformat": 4,
  "nbformat_minor": 0,
  "metadata": {
    "colab": {
      "provenance": [],
      "authorship_tag": "ABX9TyO0F3Ka1+yEjrGOgKfIuDCA",
      "include_colab_link": true
    },
    "kernelspec": {
      "name": "python3",
      "display_name": "Python 3"
    },
    "language_info": {
      "name": "python"
    }
  },
  "cells": [
    {
      "cell_type": "markdown",
      "metadata": {
        "id": "view-in-github",
        "colab_type": "text"
      },
      "source": [
        "<a href=\"https://colab.research.google.com/github/EzgiAlbardak/YZUE/blob/main/Odev1.ipynb\" target=\"_parent\"><img src=\"https://colab.research.google.com/assets/colab-badge.svg\" alt=\"Open In Colab\"/></a>"
      ]
    },
    {
      "cell_type": "code",
      "execution_count": null,
      "metadata": {
        "colab": {
          "base_uri": "https://localhost:8080/"
        },
        "id": "ZrNkhAeq6_Qh",
        "outputId": "05b1c56b-0f9f-4b51-f41e-48f96e779a8e"
      },
      "outputs": [
        {
          "output_type": "stream",
          "name": "stdout",
          "text": [
            "hello world\n"
          ]
        }
      ],
      "source": [
        "print(\"hello world\")"
      ]
    },
    {
      "cell_type": "code",
      "source": [
        "isim = input(\"lütfen isminizi giriniz:\")\n",
        "print(\"merhabalar, \", isim + \"!\")"
      ],
      "metadata": {
        "colab": {
          "base_uri": "https://localhost:8080/"
        },
        "id": "qKKTwi-f7qds",
        "outputId": "6ebe6850-18a6-4f3e-ee98-562f39a1cec2"
      },
      "execution_count": null,
      "outputs": [
        {
          "output_type": "stream",
          "name": "stdout",
          "text": [
            "lütfen isminizi giriniz:Ezgi\n",
            "merhabalar,  Ezgi!\n"
          ]
        }
      ]
    },
    {
      "cell_type": "code",
      "source": [
        "age_str=\"25\"\n",
        "age=int(age_str)\n",
        "print(age+5)"
      ],
      "metadata": {
        "colab": {
          "base_uri": "https://localhost:8080/"
        },
        "id": "Ju52MZaZ7yE2",
        "outputId": "a59ed546-2ec6-4507-938e-727e5d3b0a79"
      },
      "execution_count": null,
      "outputs": [
        {
          "output_type": "stream",
          "name": "stdout",
          "text": [
            "30\n"
          ]
        }
      ]
    },
    {
      "cell_type": "code",
      "source": [
        "score=99\n",
        "score_str=str(score)\n",
        "print(\"your score is \"+ score_str)"
      ],
      "metadata": {
        "colab": {
          "base_uri": "https://localhost:8080/"
        },
        "id": "f-D57L6X9NCG",
        "outputId": "fce05af6-e42a-4aa4-ebfe-33721648f84b"
      },
      "execution_count": null,
      "outputs": [
        {
          "output_type": "stream",
          "name": "stdout",
          "text": [
            "your score is 99\n"
          ]
        }
      ]
    },
    {
      "cell_type": "code",
      "source": [
        "print(bool(0))\n",
        "print(bool(\"hello\"))\n",
        "print(bool(\"\"))"
      ],
      "metadata": {
        "colab": {
          "base_uri": "https://localhost:8080/"
        },
        "id": "DpR1Jo-b9eEk",
        "outputId": "15af38ba-277d-451d-bbda-61fd208fa883"
      },
      "execution_count": null,
      "outputs": [
        {
          "output_type": "stream",
          "name": "stdout",
          "text": [
            "False\n",
            "True\n",
            "False\n"
          ]
        }
      ]
    },
    {
      "cell_type": "code",
      "source": [
        "cumle= input(\"bir cümle girin: \")\n",
        "buyuk_harfli = cumle.upper()\n",
        "kelimeler = cumle.split()\n",
        "\n",
        "print(\"büyük harfli cümle:\", buyuk_harfli)\n",
        "print(\"kelimeler:\", kelimeler)"
      ],
      "metadata": {
        "colab": {
          "base_uri": "https://localhost:8080/"
        },
        "id": "jT_pz808-K0p",
        "outputId": "45945344-5cea-49d3-c3b6-1c6d40aa1d5e"
      },
      "execution_count": null,
      "outputs": [
        {
          "output_type": "stream",
          "name": "stdout",
          "text": [
            "bir cümle girin: İşlem yapıyoruz\n",
            "büyük harfli cümle: İŞLEM YAPIYORUZ\n",
            "kelimeler: ['İşlem', 'yapıyoruz']\n"
          ]
        }
      ]
    },
    {
      "cell_type": "code",
      "source": [
        "isim=\"ahmet\"\n",
        "soyisim=\"yılmaz\"\n",
        "tam_isim=isim+ \" \"+ soyisim\n",
        "print(\"tam isim:\", tam_isim)\n",
        "\n",
        "selam=\"merhaba! \"\n",
        "tekrarli_selam= selam * 3\n",
        "print(\"tekrarlı selam:\", tekrarli_selam)\n"
      ],
      "metadata": {
        "colab": {
          "base_uri": "https://localhost:8080/"
        },
        "id": "5PwCUZRY_HQr",
        "outputId": "34726ca1-7911-418b-ffb7-72d92ea08f2d"
      },
      "execution_count": null,
      "outputs": [
        {
          "output_type": "stream",
          "name": "stdout",
          "text": [
            "tam isim: ahmet yılmaz\n",
            "tekrarlı selam: merhaba! merhaba! merhaba! \n"
          ]
        }
      ]
    },
    {
      "cell_type": "code",
      "source": [
        "kelime=\"python\"\n",
        "ilk_harf=kelime[0]\n",
        "ikinci_harf=kelime[1]\n",
        "son_harf=kelime[-1]\n",
        "print(\"ilk harf:\", ilk_harf)\n",
        "print(\"ikinci harf:\", ikinci_harf)\n",
        "print(\"son harf:\", son_harf)"
      ],
      "metadata": {
        "colab": {
          "base_uri": "https://localhost:8080/"
        },
        "id": "_DKJZhYw_z3L",
        "outputId": "b3df1df4-0bda-4513-a8ac-56b60b7de35e"
      },
      "execution_count": null,
      "outputs": [
        {
          "output_type": "stream",
          "name": "stdout",
          "text": [
            "ilk harf: p\n",
            "ikinci harf: y\n",
            "son harf: n\n"
          ]
        }
      ]
    },
    {
      "cell_type": "code",
      "source": [
        "metin=\"merhaba dünya\"\n",
        "alt_metin1= metin[0:7]\n",
        "alt_metin2= metin[8:]\n",
        "alt_metin3= metin[:7]\n",
        "alt_metin4= metin[::2]\n",
        "alt_metin5= metin[::-1]\n",
        "print(\"alt metin 1\", alt_metin1)\n",
        "print(\"alt metin 2\", alt_metin2)\n",
        "print(\"alt metin 3\", alt_metin3)\n",
        "print(\"alt metin 4\", alt_metin4)\n",
        "print(\"alt metin 5\", alt_metin5)"
      ],
      "metadata": {
        "colab": {
          "base_uri": "https://localhost:8080/"
        },
        "id": "0uZedg0J_67Q",
        "outputId": "2aaea650-2fe2-4e48-ff7f-e7cc899c283a"
      },
      "execution_count": null,
      "outputs": [
        {
          "output_type": "stream",
          "name": "stdout",
          "text": [
            "alt metin 1 merhaba\n",
            "alt metin 2 dünya\n",
            "alt metin 3 merhaba\n",
            "alt metin 4 mraadna\n",
            "alt metin 5 aynüd abahrem\n"
          ]
        }
      ]
    },
    {
      "cell_type": "code",
      "source": [
        "ornek_metin= \" python programlama \"\n",
        "buyuk_harfli= ornek_metin.upper()\n",
        "kucuk_harfli= ornek_metin.lower()\n",
        "temiz_metin= ornek_metin.strip()\n",
        "kelimeler= ornek_metin.split()\n",
        "kelimeler_ayrac = ornek_metin.split(\"o\")\n",
        "indeks= ornek_metin.find(\"programla\")\n",
        "degistirilmis= ornek_metin.replace(\"python\",\"java\")\n",
        "\n",
        "print(\"büyük harfli:\", buyuk_harfli)\n",
        "print(\"kucuk harfli:\", kucuk_harfli)\n",
        "print(\"temiz metin:\", temiz_metin)\n",
        "print(\"kelimeler:\", kelimeler)\n",
        "print(\"kelimeler belirli ayraç:\", kelimeler_ayrac)\n",
        "print(\"programlama indeksi:\", indeks)\n",
        "print(\"değiştirilmiş metin:\", degistirilmis)"
      ],
      "metadata": {
        "colab": {
          "base_uri": "https://localhost:8080/"
        },
        "id": "d6ibUEzwCfzX",
        "outputId": "6423c0a0-322f-4c13-cc9a-2288e7e4ea31"
      },
      "execution_count": null,
      "outputs": [
        {
          "output_type": "stream",
          "name": "stdout",
          "text": [
            "büyük harfli:  PYTHON PROGRAMLAMA \n",
            "kucuk harfli:  python programlama \n",
            "temiz metin: python programlama\n",
            "kelimeler: ['python', 'programlama']\n",
            "kelimeler belirli ayraç: [' pyth', 'n pr', 'gramlama ']\n",
            "programlama indeksi: 8\n",
            "değiştirilmiş metin:  java programlama \n"
          ]
        }
      ]
    },
    {
      "cell_type": "code",
      "source": [
        "a=5\n",
        "b=10\n",
        "\n",
        "esitmi= a==b\n",
        "farklimi= a!=b\n",
        "buyukmu= a>b\n",
        "kucukmu= a<b\n",
        "buyukesitmi= a>=5\n",
        "kucukesitmi= b<=10\n",
        "\n",
        "print(\"eşit mi:\", esitmi)\n",
        "print(\"farklı mı:\", farklimi)\n",
        "print(\"büyük mü:\", buyukmu)\n",
        "print(\"küçük mü:\", kucukmu)\n",
        "print(\"büyük eşit mi:\", buyukesitmi)\n",
        "print(\"küçük eşit mi:\", kucukesitmi)"
      ],
      "metadata": {
        "colab": {
          "base_uri": "https://localhost:8080/"
        },
        "id": "PPDjc1WeEqgW",
        "outputId": "c41c0e9e-c4ee-40ec-f7bf-c46359f4dfa8"
      },
      "execution_count": null,
      "outputs": [
        {
          "output_type": "stream",
          "name": "stdout",
          "text": [
            "eşit mi: False\n",
            "farklı mı: True\n",
            "büyük mü: False\n",
            "küçük mü: True\n",
            "büyük eşit mi: True\n",
            "küçük eşit mi: True\n"
          ]
        }
      ]
    },
    {
      "cell_type": "code",
      "source": [
        "x=7\n",
        "y=3\n",
        "kosul1= x>5\n",
        "kosul2= y<5\n",
        "ve=kosul1 and kosul2\n",
        "veya=kosul1 or (y>5)\n",
        "degil=not(x<5)\n",
        "\n",
        "print(\"ve sonucu:\", ve)\n",
        "print(\"veya sonucu:\", veya)\n",
        "print(\"degil sonucu:\", degil)"
      ],
      "metadata": {
        "colab": {
          "base_uri": "https://localhost:8080/"
        },
        "id": "auA_7C3AIR0j",
        "outputId": "68f6b7be-793c-4222-9946-b320e6d8981a"
      },
      "execution_count": null,
      "outputs": [
        {
          "output_type": "stream",
          "name": "stdout",
          "text": [
            "ve sonucu: True\n",
            "veya sonucu: True\n",
            "degil sonucu: True\n"
          ]
        }
      ]
    },
    {
      "cell_type": "code",
      "source": [
        "meyveler=[\"elma\", \"armut\", \"muz\"]\n",
        "sayilar=[1,5,10,15]\n",
        "karisik=[10, \"merhaba\", 3.14, True]\n",
        "\n",
        "karakterler= list(\"python\")\n",
        "sayi_demeti=(1,2,3)\n",
        "sayi_listesi=list(sayi_demeti)\n",
        "\n",
        "ilk_meyve= meyveler[0]\n",
        "ikinci_sayi= sayilar[1]\n",
        "son_karakter=karakterler[-1]\n",
        "\n",
        "print(\"ilk meyve:\", ilk_meyve)\n",
        "print(\"ikinci sayi:\", ikinci_sayi)\n",
        "print(\"son karakter:\", son_karakter)"
      ],
      "metadata": {
        "colab": {
          "base_uri": "https://localhost:8080/"
        },
        "id": "m54Gw1j7Ihfk",
        "outputId": "6c9d6fb1-2ae7-4195-fc6b-8ab7a22127e8"
      },
      "execution_count": null,
      "outputs": [
        {
          "output_type": "stream",
          "name": "stdout",
          "text": [
            "ilk meyve: elma\n",
            "ikinci sayi: 5\n",
            "son karakter: n\n"
          ]
        }
      ]
    },
    {
      "cell_type": "code",
      "source": [
        "renkler=[\"kırmızı\",\"mavi\",\"yeşil\"]\n",
        "renkler[1]=\"turuncu\"\n",
        "print(\"güncellenmiş renkler:\", renkler)"
      ],
      "metadata": {
        "colab": {
          "base_uri": "https://localhost:8080/"
        },
        "id": "1aVpXKHQJ3Io",
        "outputId": "bbc21fe6-c231-4102-b8dc-b0f4f385f141"
      },
      "execution_count": null,
      "outputs": [
        {
          "output_type": "stream",
          "name": "stdout",
          "text": [
            "güncellenmiş renkler: ['kırmızı', 'turuncu', 'yeşil']\n"
          ]
        }
      ]
    },
    {
      "cell_type": "code",
      "source": [
        "sayilar=[1,3,5]\n",
        "sayilar.append(7)\n",
        "sayilar.insert(1,2)\n",
        "sayilar.remove(5)\n",
        "silinen_sayi=sayilar.pop(3)\n",
        "\n",
        "meyveler=[\"muz\", \"elma\", \"armut\"]\n",
        "meyveler.sort()\n",
        "meyveler.reverse()\n",
        "indeks_elma=meyveler.index(\"elma\")\n",
        "adet_muz=meyveler.count(\"muz\")\n",
        "meyveler.clear()\n",
        "\n",
        "print(\"güncellenmiş sayılar:\", sayilar)\n",
        "print(\"silinen sayı:\", silinen_sayi)\n",
        "print(\"sıralanmış meyveler:\", meyveler)\n",
        "print(\"elma indeksi:\", indeks_elma)\n",
        "print(\"muz adeti;\", adet_muz)"
      ],
      "metadata": {
        "colab": {
          "base_uri": "https://localhost:8080/"
        },
        "id": "Cm5O3lcgLDUH",
        "outputId": "8a40a954-64e3-4ed7-ba7b-b6e949441fcd"
      },
      "execution_count": null,
      "outputs": [
        {
          "output_type": "stream",
          "name": "stdout",
          "text": [
            "güncellenmiş sayılar: [1, 2, 3]\n",
            "silinen sayı: 7\n",
            "sıralanmış meyveler: []\n",
            "elma indeksi: 1\n",
            "muz adeti; 1\n"
          ]
        }
      ]
    },
    {
      "cell_type": "code",
      "source": [
        "koordinatlar=(10,20)\n",
        "renkler=(\"kırmızı\", \"mavi\",\"yeşil\")\n",
        "karisik_demet=(1,\"merhaba\",3.14,False)\n",
        "\n",
        "tek_ogreli=(\"tek\",)\n",
        "\n",
        "sayilar_listesi=[1,2,3,4]\n",
        "sayilar_demeti=tuple(sayilar_listesi)\n",
        "karakter_demeti=tuple(\"tuple\")\n",
        "\n",
        "x_koordinati=koordinatlar[0]\n",
        "ikinci_renk=renkler[1]\n",
        "son_karakter=karakter_demeti[-1]\n",
        "\n",
        "print(\"x koordinatı:\", x_koordinati)\n",
        "print(\"ikinci renk:\",ikinci_renk)\n",
        "print(\"son karakter:\", son_karakter)\n",
        "print(\"tek öğreli demet:\", tek_ogreli)"
      ],
      "metadata": {
        "colab": {
          "base_uri": "https://localhost:8080/"
        },
        "id": "WtEFYH5KNCAw",
        "outputId": "7cf880a9-082b-40b7-afbf-347f1f70cccb"
      },
      "execution_count": null,
      "outputs": [
        {
          "output_type": "stream",
          "name": "stdout",
          "text": [
            "x koordinatı: 10\n",
            "ikinci renk: mavi\n",
            "son karakter: e\n",
            "tek öğreli demet: ('tek',)\n"
          ]
        }
      ]
    },
    {
      "cell_type": "code",
      "source": [
        "demet1=(1,2,3)\n",
        "demet2=('a','b')\n",
        "birlesik_demet=demet1+demet2\n",
        "tekrarli_demet=demet1 * 2\n",
        "alt_demet=birlesik_demet[1:4]\n",
        "\n",
        "print(\"birleşik demet:\", birlesik_demet)\n",
        "print(\"tekrarlı demet:\", tekrarli_demet)\n",
        "print(\"alt demet:\", alt_demet)\n"
      ],
      "metadata": {
        "colab": {
          "base_uri": "https://localhost:8080/"
        },
        "id": "V93nOf_OOrfp",
        "outputId": "ecafb57c-d6d8-47c7-c251-be9e72b82f20"
      },
      "execution_count": null,
      "outputs": [
        {
          "output_type": "stream",
          "name": "stdout",
          "text": [
            "birleşik demet: (1, 2, 3, 'a', 'b')\n",
            "tekrarlı demet: (1, 2, 3, 1, 2, 3)\n",
            "alt demet: (2, 3, 'a')\n"
          ]
        }
      ]
    },
    {
      "cell_type": "code",
      "source": [
        "ogrenci={\"ad\": \"ahmet\",\"yas\":20,\"bolum\":\"bilgisayar mühendisliği\"}\n",
        "fiyatlar={\"elma\": 2.5, \"muz\":3.0,\"kiraz\":5.0}\n",
        "bos_sozluk={}\n",
        "\n",
        "personel=dict(ad=\"ayşe\", soyad=\"demir\",yas=25)\n",
        "urunler=dict([(\"kalem\",1.0),(\"defter\",2.5)])\n",
        "sayilar=dict(zip(['bir','iki','üç'],[1,2,3]))\n",
        "\n",
        "ogrenci_adi=ogrenci[\"ad\"]\n",
        "elma_fiyati=fiyatlar[\"elma\"]\n",
        "\n",
        "print(\"öğrenci adı:\", ogrenci_adi)\n",
        "print(\"elma fiyatı\", elma_fiyati)\n",
        "print(\"personel\", personel)\n",
        "print(\"ürünler\",urunler)\n",
        "print(\"sayılar\",sayilar)"
      ],
      "metadata": {
        "colab": {
          "base_uri": "https://localhost:8080/"
        },
        "id": "v2lAjya1QVZB",
        "outputId": "ecaf6687-a053-42b7-bc7e-5b746a831d20"
      },
      "execution_count": null,
      "outputs": [
        {
          "output_type": "stream",
          "name": "stdout",
          "text": [
            "öğrenci adı: ahmet\n",
            "elma fiyatı 2.5\n",
            "personel {'ad': 'ayşe', 'soyad': 'demir', 'yas': 25}\n",
            "ürünler {'kalem': 1.0, 'defter': 2.5}\n",
            "sayılar {'bir': 1, 'iki': 2, 'üç': 3}\n"
          ]
        }
      ]
    },
    {
      "cell_type": "code",
      "source": [
        "ogrenci={\"ad\":\"ahmet\", \"yas\":20}\n",
        "ogrenci[\"yas\"]=21\n",
        "ogrenci[\"cinsiyet\"]=\"erkek\"\n",
        "print(\"güncellenmiş öğrenci:\", ogrenci)"
      ],
      "metadata": {
        "colab": {
          "base_uri": "https://localhost:8080/"
        },
        "id": "S6RmFyPPRAWT",
        "outputId": "6ab69971-1747-4b7a-c25b-488037d90688"
      },
      "execution_count": null,
      "outputs": [
        {
          "output_type": "stream",
          "name": "stdout",
          "text": [
            "güncellenmiş öğrenci: {'ad': 'ahmet', 'yas': 21, 'cinsiyet': 'erkek'}\n"
          ]
        }
      ]
    },
    {
      "cell_type": "code",
      "source": [
        "kisi={\"ad\": \"ali\",\"yas\":30}\n",
        "print(\"ilk hali:\", kisi)\n",
        "\n",
        "kisi.update({\"meslek\": \"mühendis\"})\n",
        "print(\"meslek eklendikten sonra:\", kisi)\n",
        "\n",
        "yeni_bilgiler={\"şehir\": \"istanbul\",\"ilgi_alanlari\": [\"kitap okumak\", \"yürüyüş yapmak\"]}\n",
        "kisi.update(yeni_bilgiler)\n",
        "print(\"yeni bilgiler eklendikten sonra:\", kisi)\n",
        "\n",
        "telefon={\"marka\":\"samsung\"}\n",
        "yeni_ozellikler=[(\"model\", \"galaxy s21\"),(\"hafiza\",\"128gb\")]\n",
        "telefon.update(yeni_ozellikler)\n",
        "print(\"yeni özellikler eklendikten sonra:\", telefon)\n"
      ],
      "metadata": {
        "colab": {
          "base_uri": "https://localhost:8080/"
        },
        "id": "dLD8_gSTUE9J",
        "outputId": "6767983c-05c3-4ab7-af5c-d1ff7bb4c0af"
      },
      "execution_count": null,
      "outputs": [
        {
          "output_type": "stream",
          "name": "stdout",
          "text": [
            "ilk hali: {'ad': 'ali', 'yas': 30}\n",
            "meslek eklendikten sonra: {'ad': 'ali', 'yas': 30, 'meslek': 'mühendis'}\n",
            "yeni bilgiler eklendikten sonra: {'ad': 'ali', 'yas': 30, 'meslek': 'mühendis', 'şehir': 'istanbul', 'ilgi_alanlari': ['kitap okumak', 'yürüyüş yapmak']}\n",
            "yeni özellikler eklendikten sonra: {'marka': 'samsung', 'model': 'galaxy s21', 'hafiza': '128gb'}\n"
          ]
        }
      ]
    },
    {
      "cell_type": "code",
      "source": [
        "personel= {\"ad\":\"ayşe\",\"soyad\": \"demir\", \"yas\":25}\n",
        "anahtarlar= personel.keys()\n",
        "degerler= personel.values()\n",
        "oge_ciftleri=personel.items()\n",
        "\n",
        "print(\"anahtarlar:\", anahtarlar)\n",
        "print(\"değerler:\", degerler)\n",
        "print(\"öğe çiftleri:\", oge_ciftleri)\n",
        "\n",
        "yas= personel.get(\"yas\")\n",
        "cinsiyet=personel.get(\"cinsiyet\",\"belirtilmemiş\")\n",
        "\n",
        "print(\"yaş:\", yas)\n",
        "print(\"cinsiyet:\",cinsiyet)\n",
        "\n",
        "yeni_bilgiler={\"şehir\": \"istanbul\", \"meslek\": \"muhendis\"}\n",
        "personel.update(yeni_bilgiler)\n",
        "print(\"güncellenmiş personel:\", personel)\n",
        "\n",
        "silinen_yas = personel.pop(\"yas\")\n",
        "print(\"silinen yaş:\", silinen_yas)\n",
        "print(\"personel sonrası pop:\", personel)\n",
        "\n",
        "personel.clear()\n",
        "print(\"personel temizlendikten sonra:\", personel)"
      ],
      "metadata": {
        "colab": {
          "base_uri": "https://localhost:8080/"
        },
        "id": "9U-7WeCyVHdw",
        "outputId": "a6b149ca-1a9d-4048-acc6-b5a6f57db250"
      },
      "execution_count": null,
      "outputs": [
        {
          "output_type": "stream",
          "name": "stdout",
          "text": [
            "anahtarlar: dict_keys(['ad', 'soyad', 'yas'])\n",
            "değerler: dict_values(['ayşe', 'demir', 25])\n",
            "öğe çiftleri: dict_items([('ad', 'ayşe'), ('soyad', 'demir'), ('yas', 25)])\n",
            "yaş: 25\n",
            "cinsiyet: belirtilmemiş\n",
            "güncellenmiş personel: {'ad': 'ayşe', 'soyad': 'demir', 'yas': 25, 'şehir': 'istanbul', 'meslek': 'muhendis'}\n",
            "silinen yaş: 25\n",
            "personel sonrası pop: {'ad': 'ayşe', 'soyad': 'demir', 'şehir': 'istanbul', 'meslek': 'muhendis'}\n",
            "personel temizlendikten sonra: {}\n"
          ]
        }
      ]
    },
    {
      "cell_type": "code",
      "source": [
        "renkler={}\n",
        "for i in range(3):\n",
        "  turkce_renk= input(f\"lütfen {i+1}. en sevdiğiniz rengi türkçe olarak girin: \")\n",
        "  ingilizce_renk= input(f\"{turkce_renk}'in ingilizce karşılığını girin: \")\n",
        "  renkler[turkce_renk]= ingilizce_renk\n",
        "\n",
        "aranan_renk= input(\"ingilizce karşılığını öğrenmek istediğiniz Türkçe rengi girin: \")\n",
        "ingilizce_karsilik = renkler.get(aranan_renk)\n",
        "\n",
        "if ingilizce_karsilik:\n",
        "  print(f\"{aranan_renk}'in ingilizce karşılığı: {ingilizce_karsilik}\")\n",
        "else:\n",
        "  print(f\"{aranan_renk} sözlükte bulunamadı. \")\n"
      ],
      "metadata": {
        "colab": {
          "base_uri": "https://localhost:8080/"
        },
        "id": "t5FruSeuYLYR",
        "outputId": "dd5e194d-800d-42fc-f588-9968ea56f610"
      },
      "execution_count": null,
      "outputs": [
        {
          "output_type": "stream",
          "name": "stdout",
          "text": [
            "lütfen 1. en sevdiğiniz rengi türkçe olarak girin: Kırmızı\n",
            "Kırmızı'in ingilizce karşılığını girin: Red\n",
            "lütfen 2. en sevdiğiniz rengi türkçe olarak girin: Mavi\n",
            "Mavi'in ingilizce karşılığını girin: Blue\n",
            "lütfen 3. en sevdiğiniz rengi türkçe olarak girin: Pembe\n",
            "Pembe'in ingilizce karşılığını girin: Pink\n",
            "ingilizce karşılığını öğrenmek istediğiniz Türkçe rengi girin: Siyah\n",
            "Siyah sözlükte bulunamadı. \n"
          ]
        }
      ]
    },
    {
      "cell_type": "code",
      "source": [
        "meyveler={\"elma\",\"armut\",\"muz\"}\n",
        "sayilar={1,2,2,3,3,3}\n",
        "karakterler={\"a\",\"b\",\"c\",\"a\"}\n",
        "bos_kume=set()\n",
        "\n",
        "liste=[1,2,3,2,1]\n",
        "sayi_kumesi= set(liste)\n",
        "metin=\"merhaba\"\n",
        "karakter_kumesi=set(metin)\n",
        "\n",
        "print(\"meyveler kümesi:\",meyveler)\n",
        "print(\"sayılar kümesi:\", sayilar)\n",
        "print(\"karakterler kümesi:\",karakterler)\n",
        "print(\"boş küme:\", bos_kume)\n",
        "print(\"listeden oluşan küme:\", sayi_kumesi)\n",
        "print(\"metinden oluşan küme:\", karakter_kumesi)"
      ],
      "metadata": {
        "colab": {
          "base_uri": "https://localhost:8080/"
        },
        "id": "jSFN76wNYWCb",
        "outputId": "882d7721-aa8b-4611-934a-50893d906f3f"
      },
      "execution_count": null,
      "outputs": [
        {
          "output_type": "stream",
          "name": "stdout",
          "text": [
            "meyveler kümesi: {'muz', 'armut', 'elma'}\n",
            "sayılar kümesi: {1, 2, 3}\n",
            "karakterler kümesi: {'a', 'c', 'b'}\n",
            "boş küme: set()\n",
            "listeden oluşan küme: {1, 2, 3}\n",
            "metinden oluşan küme: {'e', 'r', 'h', 'm', 'a', 'b'}\n"
          ]
        }
      ]
    },
    {
      "cell_type": "code",
      "source": [
        "sayi_kumesi={1,2,3}\n",
        "sayi_kumesi.add(4)\n",
        "print(\"4 eklendikten sonra:\", sayi_kumesi)\n",
        "\n",
        "yeni_sayilar=[5,6,6,7]\n",
        "sayi_kumesi.update(yeni_sayilar)\n",
        "print(\"yeni sayılar eklendikten sonra:\", sayi_kumesi)\n",
        "\n",
        "sayi_kumesi.remove(3)\n",
        "print(\"3 silindikten sonra\", sayi_kumesi)\n",
        "\n",
        "sayi_kumesi.discard(8)\n",
        "print(\"8 discard edildikten sonra:\", sayi_kumesi)\n",
        "\n",
        "silinen_oge= sayi_kumesi.pop()\n",
        "print(\"silinen oğe:\", silinen_oge)\n",
        "print(\"pop sonrası küme:\", sayi_kumesi)\n",
        "\n",
        "sayi_kumesi.clear()\n",
        "print(\"temizlenmiş küme:\", sayi_kumesi)"
      ],
      "metadata": {
        "colab": {
          "base_uri": "https://localhost:8080/"
        },
        "id": "3MWEMDJse10B",
        "outputId": "be3b7bb0-69ed-434d-fe1c-7bc008b88f61"
      },
      "execution_count": null,
      "outputs": [
        {
          "output_type": "stream",
          "name": "stdout",
          "text": [
            "4 eklendikten sonra: {1, 2, 3, 4}\n",
            "yeni sayılar eklendikten sonra: {1, 2, 3, 4, 5, 6, 7}\n",
            "3 silindikten sonra {1, 2, 4, 5, 6, 7}\n",
            "8 discard edildikten sonra: {1, 2, 4, 5, 6, 7}\n",
            "silinen oğe: 1\n",
            "pop sonrası küme: {2, 4, 5, 6, 7}\n",
            "temizlenmiş küme: set()\n"
          ]
        }
      ]
    },
    {
      "cell_type": "code",
      "source": [
        "kume1={1,2,3,4,5}\n",
        "kume2={3,5,6,7,8}\n",
        "\n",
        "birlesim= kume1.union(kume2)\n",
        "print(\"birleşim:\", birlesim)\n",
        "\n",
        "kesisim=kume1.intersection(kume2)\n",
        "print(\"kesişim:\", kesisim)\n",
        "\n",
        "fark= kume1.difference(kume2)\n",
        "print(\"fark(kume1-kume2):\", fark)\n",
        "\n",
        "simetrik_fark= kume1.symmetric_difference(kume2)\n",
        "print(\"simetrik fark:\", simetrik_fark)"
      ],
      "metadata": {
        "colab": {
          "base_uri": "https://localhost:8080/"
        },
        "id": "XOwcZ-D4g9BZ",
        "outputId": "d2f43515-476c-46a7-822e-a060444b7dad"
      },
      "execution_count": null,
      "outputs": [
        {
          "output_type": "stream",
          "name": "stdout",
          "text": [
            "birleşim: {1, 2, 3, 4, 5, 6, 7, 8}\n",
            "kesişim: {3, 5}\n",
            "fark(kume1-kume2): {1, 2, 4}\n",
            "simetrik fark: {1, 2, 4, 6, 7, 8}\n"
          ]
        }
      ]
    },
    {
      "cell_type": "code",
      "source": [
        "sayi= float(input(\"bir sayı girin: \"))\n",
        "\n",
        "if sayi > 0:\n",
        "  print(\"sayı pozitif.\")\n",
        "else:\n",
        "  print(\"sayı negatif veya sıfır\")\n"
      ],
      "metadata": {
        "colab": {
          "base_uri": "https://localhost:8080/"
        },
        "id": "qHPKf7_UiOti",
        "outputId": "910d17ef-e976-4428-deb0-fe2915a13105"
      },
      "execution_count": null,
      "outputs": [
        {
          "output_type": "stream",
          "name": "stdout",
          "text": [
            "bir sayı girin: 50\n",
            "sayı pozitif.\n"
          ]
        }
      ]
    },
    {
      "cell_type": "code",
      "source": [
        "notu= int(input(\"lütfen sınav notunuzu girin: \"))\n",
        "\n",
        "if notu >= 90:\n",
        "  harf_notu=\"A\"\n",
        "elif notu >= 80:\n",
        "  harf_notu=\"B\"\n",
        "elif notu >= 70:\n",
        "  harf_notu=\"C\"\n",
        "elif notu >= 60:\n",
        "  harf_notu=\"D\"\n",
        "else:\n",
        "  harf_notu=\"F\"\n",
        "\n",
        "print(\"harf notunuz:\", harf_notu)"
      ],
      "metadata": {
        "colab": {
          "base_uri": "https://localhost:8080/"
        },
        "id": "UY1vyix7i_4c",
        "outputId": "c78867bc-924c-4b2b-9ff7-6b34a4e97e26"
      },
      "execution_count": null,
      "outputs": [
        {
          "output_type": "stream",
          "name": "stdout",
          "text": [
            "lütfen sınav notunuzu girin: 85\n",
            "harf notunuz: B\n"
          ]
        }
      ]
    },
    {
      "cell_type": "code",
      "source": [
        "kelime= \"python\"\n",
        "for harf in kelime:\n",
        "  print(\"harf:\", harf)\n"
      ],
      "metadata": {
        "colab": {
          "base_uri": "https://localhost:8080/"
        },
        "id": "yIE83VyAj6NU",
        "outputId": "60bd6479-dfd4-4632-f442-8a8ceca4075a"
      },
      "execution_count": null,
      "outputs": [
        {
          "output_type": "stream",
          "name": "stdout",
          "text": [
            "harf: p\n",
            "harf: y\n",
            "harf: t\n",
            "harf: h\n",
            "harf: o\n",
            "harf: n\n"
          ]
        }
      ]
    },
    {
      "cell_type": "code",
      "source": [
        "koordinatlar= ((1,2),(3,4),(5,6))\n",
        "for x,y in koordinatlar:\n",
        "  print(f\"X: {x}, Y: {y}\")"
      ],
      "metadata": {
        "colab": {
          "base_uri": "https://localhost:8080/"
        },
        "id": "JzNw9Up9kOnL",
        "outputId": "0b1fb447-9e95-43b2-917d-27527bfde242"
      },
      "execution_count": null,
      "outputs": [
        {
          "output_type": "stream",
          "name": "stdout",
          "text": [
            "X: 1, Y: 2\n",
            "X: 3, Y: 4\n",
            "X: 5, Y: 6\n"
          ]
        }
      ]
    },
    {
      "cell_type": "code",
      "source": [
        "meyveler = [\"elma\", \"armut\", \"muz\"]\n",
        "for meyve in meyveler:\n",
        "  print(\"meyve:\", meyve)"
      ],
      "metadata": {
        "colab": {
          "base_uri": "https://localhost:8080/"
        },
        "id": "skL8uf-AklKf",
        "outputId": "7c661291-7cd9-4648-da3f-c32b712e5045"
      },
      "execution_count": null,
      "outputs": [
        {
          "output_type": "stream",
          "name": "stdout",
          "text": [
            "meyve: elma\n",
            "meyve: armut\n",
            "meyve: muz\n"
          ]
        }
      ]
    },
    {
      "cell_type": "code",
      "source": [
        "for i in range(5):\n",
        "  print(\"sayı:\",i)\n",
        "\n",
        "for sayi in range(2,11,2):\n",
        "  print(\"çift sayı:\", sayi)\n",
        "\n",
        "for sayi in range(5,0,-1):\n",
        "  print(\"geriye sayım:\", sayi)"
      ],
      "metadata": {
        "colab": {
          "base_uri": "https://localhost:8080/"
        },
        "id": "BtvYQBfpky0o",
        "outputId": "a1644247-25d4-44b6-d197-b7248e19adbe"
      },
      "execution_count": null,
      "outputs": [
        {
          "output_type": "stream",
          "name": "stdout",
          "text": [
            "sayı: 0\n",
            "sayı: 1\n",
            "sayı: 2\n",
            "sayı: 3\n",
            "sayı: 4\n",
            "çift sayı: 2\n",
            "çift sayı: 4\n",
            "çift sayı: 6\n",
            "çift sayı: 8\n",
            "çift sayı: 10\n",
            "geriye sayım: 5\n",
            "geriye sayım: 4\n",
            "geriye sayım: 3\n",
            "geriye sayım: 2\n",
            "geriye sayım: 1\n"
          ]
        }
      ]
    },
    {
      "cell_type": "code",
      "source": [
        "meyveler= [\"elma\", \"armut\", \"muz\"]\n",
        "for indeks, meyve in enumerate(meyveler):\n",
        "  print(f\"{indeks}. meyve: {meyve}\")"
      ],
      "metadata": {
        "colab": {
          "base_uri": "https://localhost:8080/"
        },
        "id": "VJFLLTxFlWm5",
        "outputId": "6f126a8f-39be-469d-a0d6-265a2f2d3606"
      },
      "execution_count": null,
      "outputs": [
        {
          "output_type": "stream",
          "name": "stdout",
          "text": [
            "0. meyve: elma\n",
            "1. meyve: armut\n",
            "2. meyve: muz\n"
          ]
        }
      ]
    },
    {
      "cell_type": "code",
      "source": [
        "for i in range(1,4):\n",
        "  for j in range(1,4):\n",
        "    print(f\"{i} x {j} = {i * j}\")\n",
        "  print(\"-\" * 10)"
      ],
      "metadata": {
        "colab": {
          "base_uri": "https://localhost:8080/"
        },
        "id": "i5W5Zlgkl1fA",
        "outputId": "96f80c8e-7f66-4957-8986-34600c6e20b9"
      },
      "execution_count": null,
      "outputs": [
        {
          "output_type": "stream",
          "name": "stdout",
          "text": [
            "1 x 1 = 1\n",
            "1 x 2 = 2\n",
            "1 x 3 = 3\n",
            "----------\n",
            "2 x 1 = 2\n",
            "2 x 2 = 4\n",
            "2 x 3 = 6\n",
            "----------\n",
            "3 x 1 = 3\n",
            "3 x 2 = 6\n",
            "3 x 3 = 9\n",
            "----------\n"
          ]
        }
      ]
    },
    {
      "cell_type": "code",
      "source": [
        "for i in range(3):\n",
        "  print(i,end=\" \")\n",
        "\n",
        "print(\"ali\", \"veli\", \"ayşe\", sep=\", \")\n",
        "print(\"2025\", \"05\", \"01\", sep=\"-\")\n",
        "\n",
        "with open(\"cikti.txt\", \"w\") as dosya:\n",
        "  print(\"dosyaya yazılan metin\", file=dosya)"
      ],
      "metadata": {
        "colab": {
          "base_uri": "https://localhost:8080/"
        },
        "id": "Il2Xp7BDmWcz",
        "outputId": "7b93715c-e13a-4231-8d46-00f5390c6749"
      },
      "execution_count": null,
      "outputs": [
        {
          "output_type": "stream",
          "name": "stdout",
          "text": [
            "0 1 2 ali, veli, ayşe\n",
            "2025-05-01\n"
          ]
        }
      ]
    },
    {
      "cell_type": "code",
      "source": [
        "sayac=0\n",
        "while sayac < 5:\n",
        "  print(\"sayaç değeri:\", sayac)\n",
        "  sayac += 1\n",
        "print(\"döngü sona erdi\")"
      ],
      "metadata": {
        "colab": {
          "base_uri": "https://localhost:8080/"
        },
        "id": "-iho4Fd4nADe",
        "outputId": "9af4d7e5-c17a-412b-b4cc-441a926ac969"
      },
      "execution_count": null,
      "outputs": [
        {
          "output_type": "stream",
          "name": "stdout",
          "text": [
            "sayaç değeri: 0\n",
            "sayaç değeri: 1\n",
            "sayaç değeri: 2\n",
            "sayaç değeri: 3\n",
            "sayaç değeri: 4\n",
            "döngü sona erdi\n"
          ]
        }
      ]
    },
    {
      "cell_type": "code",
      "source": [
        "parola = \"\"\n",
        "while parola != \"gizli\":\n",
        "  parola = input(\"lütfen parolayı girin: \")\n",
        "  if parola != \"gizli\":\n",
        "    print(\"yanlış parola. tekrar deneyin.\")\n",
        "print(\"parola doğru! giriş başarılı.\")"
      ],
      "metadata": {
        "colab": {
          "base_uri": "https://localhost:8080/"
        },
        "id": "I9qQ4hHAnRvi",
        "outputId": "9f93cdd2-33bb-421d-da9b-8613dcf097fb"
      },
      "execution_count": null,
      "outputs": [
        {
          "output_type": "stream",
          "name": "stdout",
          "text": [
            "lütfen parolayı girin: Gizli\n",
            "yanlış parola. tekrar deneyin.\n",
            "lütfen parolayı girin: gizli\n",
            "parola doğru! giriş başarılı.\n"
          ]
        }
      ]
    },
    {
      "cell_type": "code",
      "source": [
        "sayi= 5\n",
        "while sayi > 0:\n",
        "  print(sayi)\n",
        "  sayi -= 1"
      ],
      "metadata": {
        "colab": {
          "base_uri": "https://localhost:8080/"
        },
        "id": "j9mKsYIjnzi8",
        "outputId": "c210030b-afba-4d71-93c2-92fcac274781"
      },
      "execution_count": null,
      "outputs": [
        {
          "output_type": "stream",
          "name": "stdout",
          "text": [
            "5\n",
            "4\n",
            "3\n",
            "2\n",
            "1\n"
          ]
        }
      ]
    },
    {
      "cell_type": "code",
      "source": [
        "sayac = 0\n",
        "while True:\n",
        "  print(\"sayaç:\", sayac)\n",
        "  sayac +=1\n",
        "  if sayac > 5:\n",
        "    break\n",
        "print(\"döngü break ile sonlandırıldı\")"
      ],
      "metadata": {
        "colab": {
          "base_uri": "https://localhost:8080/"
        },
        "id": "9QwY8BLOoAIy",
        "outputId": "bce9183b-5350-48e9-805a-8e883801ea1e"
      },
      "execution_count": null,
      "outputs": [
        {
          "output_type": "stream",
          "name": "stdout",
          "text": [
            "sayaç: 0\n",
            "sayaç: 1\n",
            "sayaç: 2\n",
            "sayaç: 3\n",
            "sayaç: 4\n",
            "sayaç: 5\n",
            "döngü break ile sonlandırıldı\n"
          ]
        }
      ]
    },
    {
      "cell_type": "code",
      "source": [
        "sayilar = [1,2,3,4,5,6]\n",
        "for sayi in sayilar:\n",
        "  if sayi % 2 == 0:\n",
        "    continue\n",
        "  print(\"tek sayı:\", sayi)"
      ],
      "metadata": {
        "colab": {
          "base_uri": "https://localhost:8080/"
        },
        "id": "ZL0I066VoZrd",
        "outputId": "f97eb9e5-e555-4757-ce03-54cb0c0b2328"
      },
      "execution_count": null,
      "outputs": [
        {
          "output_type": "stream",
          "name": "stdout",
          "text": [
            "tek sayı: 1\n",
            "tek sayı: 3\n",
            "tek sayı: 5\n"
          ]
        }
      ]
    },
    {
      "cell_type": "code",
      "source": [
        "sayi= int(input(\"bir sayı girin: \"))\n",
        "asal_mi = True\n",
        "\n",
        "for i in range(2, int(sayi**0.5)+1):\n",
        "  if sayi % i == 0:\n",
        "    asal_mi = False\n",
        "    break\n",
        "else:\n",
        "  print(sayi, \"asaldır.\")\n",
        "if not asal_mi:\n",
        "  print(sayi, \"asal değildir.\")"
      ],
      "metadata": {
        "colab": {
          "base_uri": "https://localhost:8080/"
        },
        "id": "D8mgnCIDo2rG",
        "outputId": "d9727db8-3917-471d-9f9c-8cb815a22b73"
      },
      "execution_count": null,
      "outputs": [
        {
          "output_type": "stream",
          "name": "stdout",
          "text": [
            "bir sayı girin: 5\n",
            "5 asaldır.\n"
          ]
        }
      ]
    },
    {
      "cell_type": "code",
      "source": [
        "for i in range(5):\n",
        "  if i % 2 == 0:\n",
        "    pass\n",
        "  else:\n",
        "    print(i)"
      ],
      "metadata": {
        "colab": {
          "base_uri": "https://localhost:8080/"
        },
        "id": "9RniZexOpymL",
        "outputId": "59c50612-aeff-48ef-bd65-c98a7101871e"
      },
      "execution_count": null,
      "outputs": [
        {
          "output_type": "stream",
          "name": "stdout",
          "text": [
            "1\n",
            "3\n"
          ]
        }
      ]
    },
    {
      "cell_type": "code",
      "source": [],
      "metadata": {
        "id": "skywBlEnJOFc"
      },
      "execution_count": null,
      "outputs": []
    }
  ]
}