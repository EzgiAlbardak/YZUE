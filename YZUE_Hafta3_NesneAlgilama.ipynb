{
  "nbformat": 4,
  "nbformat_minor": 0,
  "metadata": {
    "colab": {
      "provenance": [],
      "gpuType": "T4",
      "include_colab_link": true
    },
    "kernelspec": {
      "name": "python3",
      "display_name": "Python 3"
    },
    "language_info": {
      "name": "python"
    },
    "accelerator": "GPU"
  },
  "cells": [
    {
      "cell_type": "markdown",
      "metadata": {
        "id": "view-in-github",
        "colab_type": "text"
      },
      "source": [
        "<a href=\"https://colab.research.google.com/github/EzgiAlbardak/YZUE/blob/main/YZUE_Hafta3_NesneAlgilama.ipynb\" target=\"_parent\"><img src=\"https://colab.research.google.com/assets/colab-badge.svg\" alt=\"Open In Colab\"/></a>"
      ]
    },
    {
      "cell_type": "code",
      "source": [
        "!nvidia-smi"
      ],
      "metadata": {
        "colab": {
          "base_uri": "https://localhost:8080/"
        },
        "id": "kOtnnYp-l3Ru",
        "outputId": "7a8e4a1d-6ce1-46b7-96e5-808ad4fd8807"
      },
      "execution_count": 15,
      "outputs": [
        {
          "output_type": "stream",
          "name": "stdout",
          "text": [
            "Fri May 23 13:18:59 2025       \n",
            "+-----------------------------------------------------------------------------------------+\n",
            "| NVIDIA-SMI 550.54.15              Driver Version: 550.54.15      CUDA Version: 12.4     |\n",
            "|-----------------------------------------+------------------------+----------------------+\n",
            "| GPU  Name                 Persistence-M | Bus-Id          Disp.A | Volatile Uncorr. ECC |\n",
            "| Fan  Temp   Perf          Pwr:Usage/Cap |           Memory-Usage | GPU-Util  Compute M. |\n",
            "|                                         |                        |               MIG M. |\n",
            "|=========================================+========================+======================|\n",
            "|   0  Tesla T4                       Off |   00000000:00:04.0 Off |                    0 |\n",
            "| N/A   77C    P0             35W /   70W |     294MiB /  15360MiB |      0%      Default |\n",
            "|                                         |                        |                  N/A |\n",
            "+-----------------------------------------+------------------------+----------------------+\n",
            "                                                                                         \n",
            "+-----------------------------------------------------------------------------------------+\n",
            "| Processes:                                                                              |\n",
            "|  GPU   GI   CI        PID   Type   Process name                              GPU Memory |\n",
            "|        ID   ID                                                               Usage      |\n",
            "|=========================================================================================|\n",
            "+-----------------------------------------------------------------------------------------+\n"
          ]
        }
      ]
    },
    {
      "cell_type": "code",
      "source": [
        "import os\n",
        "HOME = os.getcwd()\n",
        "print(HOME)"
      ],
      "metadata": {
        "colab": {
          "base_uri": "https://localhost:8080/"
        },
        "id": "PrdNi0x4mFfx",
        "outputId": "78e91cdf-efdd-4e5f-f5fa-a78b647e0c0d"
      },
      "execution_count": null,
      "outputs": [
        {
          "output_type": "stream",
          "name": "stdout",
          "text": [
            "/content\n"
          ]
        }
      ]
    },
    {
      "cell_type": "code",
      "source": [
        "# Pip install method (recommended)\n",
        "\n",
        "!pip install ultralytics==8.2.103 -q\n",
        "\n",
        "from IPython import display\n",
        "display.clear_output()\n",
        "\n",
        "import ultralytics\n",
        "ultralytics.checks()"
      ],
      "metadata": {
        "colab": {
          "base_uri": "https://localhost:8080/"
        },
        "id": "u-_mf0ummH_b",
        "outputId": "0a3f2002-32d4-48f1-9cec-246d16930968"
      },
      "execution_count": 17,
      "outputs": [
        {
          "output_type": "stream",
          "name": "stdout",
          "text": [
            "Ultralytics YOLOv8.2.103 🚀 Python-3.11.12 torch-2.6.0+cu124 CUDA:0 (Tesla T4, 15095MiB)\n",
            "Setup complete ✅ (2 CPUs, 12.7 GB RAM, 41.6/112.6 GB disk)\n"
          ]
        }
      ]
    },
    {
      "cell_type": "code",
      "source": [
        "from ultralytics import YOLO\n",
        "\n",
        "from IPython.display import display, Image"
      ],
      "metadata": {
        "id": "ZDNMClfvmoVX"
      },
      "execution_count": 21,
      "outputs": []
    },
    {
      "cell_type": "code",
      "execution_count": 20,
      "metadata": {
        "colab": {
          "base_uri": "https://localhost:8080/"
        },
        "id": "wLPiBWPdlWun",
        "outputId": "4364a9dc-f3bc-4199-937c-50ed0c031f9b"
      },
      "outputs": [
        {
          "output_type": "stream",
          "name": "stdout",
          "text": [
            "YOLOv8 Nano modelini yüklüyorum...\n",
            "YOLOv8 Nano modeli yüklendi.\n",
            "\n",
            "YOLOv8 Large modelini yüklüyorum...\n",
            "YOLOv8 Large modeli yüklendi.\n"
          ]
        }
      ],
      "source": [
        "from ultralytics import YOLO\n",
        "import os\n",
        "\n",
        "# Ağırlık dosyasının varsayılan olarak kaydedildiği dizini kontrol edelim\n",
        "# (Genellikle ~/.cache/ultralytics/models/ veya benzeri)\n",
        "# İlk çalıştırmada indirildiğini göreceksiniz.\n",
        "# Eğer zaten indirilmişse, tekrar indirilmez.\n",
        "\n",
        "print(\"YOLOv8 Nano modelini yüklüyorum...\")\n",
        "model_n = YOLO('yolov8n.pt') # Eğer yoksa, yolov8n.pt otomatik olarak indirilir.\n",
        "print(\"YOLOv8 Nano modeli yüklendi.\")\n",
        "\n",
        "print(\"\\nYOLOv8 Large modelini yüklüyorum...\")\n",
        "model_l = YOLO('yolov8l.pt') # Eğer yoksa, yolov8l.pt otomatik olarak indirilir.\n",
        "print(\"YOLOv8 Large modeli yüklendi.\")\n",
        "\n",
        "# Ağırlıkların indirildiği klasörü kontrol edebilirsiniz (isteğe bağlı)\n",
        "# Örneğin: print(os.path.expanduser('~/.cache/ultralytics/models'))"
      ]
    },
    {
      "cell_type": "code",
      "source": [
        "# Gerekli kütüphaneleri yükleyin\n",
        "# !pip install ultralytics  # Yüklü değilse uncomment yapın\n",
        "# !pip install opencv-python # Yüklü değilse uncomment yapın\n",
        "# !pip install matplotlib    # Yüklü değilse uncomment yapın\n",
        "\n",
        "# Bağımlılık sorunlarını gidermek için genellikle faydalıdır (NumPy hatası için)\n",
        "# Eğer \"numpy.dtype size changed\" hatasını alırsanız, bu satırı çalıştırın ve Runtime'ı yeniden başlatın\n",
        "!pip install numpy --upgrade --pre\n",
        "\n",
        "# Kütüphaneleri içeri aktaralım\n",
        "import os\n",
        "import cv2\n",
        "import matplotlib.pyplot as plt\n",
        "from ultralytics import YOLO\n",
        "import numpy as np # Resim oluşturmak veya işlemek için\n",
        "from google.colab import drive # Gerekirse drive mount etmek için\n",
        "\n",
        "print(\"Kütüphaneler başarıyla yüklendi ve içe aktarıldı.\")"
      ],
      "metadata": {
        "colab": {
          "base_uri": "https://localhost:8080/"
        },
        "id": "WYCVgINmtlKt",
        "outputId": "669c09b6-b3e8-49df-adfa-1e7e687da167"
      },
      "execution_count": 22,
      "outputs": [
        {
          "output_type": "stream",
          "name": "stdout",
          "text": [
            "Requirement already satisfied: numpy in /usr/local/lib/python3.11/dist-packages (1.26.4)\n",
            "Collecting numpy\n",
            "  Using cached numpy-2.2.6-cp311-cp311-manylinux_2_17_x86_64.manylinux2014_x86_64.whl.metadata (62 kB)\n",
            "Using cached numpy-2.2.6-cp311-cp311-manylinux_2_17_x86_64.manylinux2014_x86_64.whl (16.8 MB)\n",
            "Installing collected packages: numpy\n",
            "  Attempting uninstall: numpy\n",
            "    Found existing installation: numpy 1.26.4\n",
            "    Uninstalling numpy-1.26.4:\n",
            "      Successfully uninstalled numpy-1.26.4\n",
            "\u001b[31mERROR: pip's dependency resolver does not currently take into account all the packages that are installed. This behaviour is the source of the following dependency conflicts.\n",
            "ultralytics 8.2.103 requires numpy<2.0.0,>=1.23.0, but you have numpy 2.2.6 which is incompatible.\n",
            "numba 0.60.0 requires numpy<2.1,>=1.22, but you have numpy 2.2.6 which is incompatible.\n",
            "tensorflow 2.18.0 requires numpy<2.1.0,>=1.26.0, but you have numpy 2.2.6 which is incompatible.\u001b[0m\u001b[31m\n",
            "\u001b[0mSuccessfully installed numpy-2.2.6\n",
            "Kütüphaneler başarıyla yüklendi ve içe aktarıldı.\n"
          ]
        }
      ]
    },
    {
      "cell_type": "code",
      "source": [
        "# Ortam kurulumunu yaptığınız varsayılıyor\n",
        "\n",
        "# 1. YOLOv8 modelini yükleyin (örneğin, 'yolov8n.pt' - nano model)\n",
        "# İlk çalıştırmada indirme mesajlarını görebilirsiniz.\n",
        "model = YOLO('yolov8n.pt')\n",
        "print(f\"YOLOv8 modeli yüklendi: {model.model_name}\")"
      ],
      "metadata": {
        "colab": {
          "base_uri": "https://localhost:8080/"
        },
        "id": "-DU5dYHoycOp",
        "outputId": "6f657459-1bdb-45ff-c3eb-7200eff33d2f"
      },
      "execution_count": 25,
      "outputs": [
        {
          "output_type": "stream",
          "name": "stdout",
          "text": [
            "YOLOv8 modeli yüklendi: yolov8n.pt\n"
          ]
        }
      ]
    },
    {
      "cell_type": "code",
      "source": [
        "# Bu kısmı çalıştırmak için 'yolov8n-seg.pt' modelini indirmeniz gerekebilir\n",
        "# !pip install ultralytics # Zaten yüklüyse çalıştırmayın\n",
        "# import cv2\n",
        "# import numpy as np\n",
        "# from ultralytics import YOLO\n",
        "\n",
        "from ultralytics import YOLO\n",
        "import cv2\n",
        "\n",
        "# Video ve model\n",
        "cap = cv2.VideoCapture('traffic.mp4')\n",
        "model = YOLO('yolov8n-seg.pt')\n",
        "\n",
        "# Kontrol et\n",
        "if not cap.isOpened():\n",
        "    print(\"Video açılamadı!\")\n",
        "else:\n",
        "    width = int(cap.get(cv2.CAP_PROP_FRAME_WIDTH))\n",
        "    height = int(cap.get(cv2.CAP_PROP_FRAME_HEIGHT))\n",
        "    fps = cap.get(cv2.CAP_PROP_FPS)\n",
        "\n",
        "    print(f\"Boyut: {width}x{height}, FPS: {fps}\")\n",
        "\n",
        "    # Video kaydedici\n",
        "    fourcc = cv2.VideoWriter_fourcc(*'mp4v')\n",
        "    out = cv2.VideoWriter('output.mp4', fourcc, fps, (width, height))\n",
        "\n",
        "    # Kare kare işlem\n",
        "    while True:\n",
        "        ret, frame = cap.read()\n",
        "        if not ret:\n",
        "            break\n",
        "\n",
        "        results = model.predict(source=frame, conf=0.5, show=False, save=False, verbose=False)\n",
        "        annotated = results[0].plot() if results and results[0].masks is not None else frame\n",
        "\n",
        "        out.write(annotated)\n",
        "\n",
        "    cap.release()\n",
        "    out.release()\n",
        "    print(\"Video yazıldı: output.mp4\")\n"
      ],
      "metadata": {
        "id": "-9QqN4-8_edx",
        "outputId": "48b5ba9c-bfab-4a00-e5f9-42cf89ba48be",
        "colab": {
          "base_uri": "https://localhost:8080/"
        }
      },
      "execution_count": 26,
      "outputs": [
        {
          "output_type": "stream",
          "name": "stdout",
          "text": [
            "Boyut: 1920x1080, FPS: 29.97002997002997\n",
            "Video yazıldı: output.mp4\n"
          ]
        }
      ]
    },
    {
      "cell_type": "code",
      "source": [
        "!ls -lh output.mp4"
      ],
      "metadata": {
        "colab": {
          "base_uri": "https://localhost:8080/"
        },
        "id": "d9VZppxkUGM-",
        "outputId": "3ffce2a0-9617-472d-a7ac-88d69af97d76"
      },
      "execution_count": 31,
      "outputs": [
        {
          "output_type": "stream",
          "name": "stdout",
          "text": [
            "-rw-r--r-- 1 root root 293K May 23 13:23 output.mp4\n"
          ]
        }
      ]
    },
    {
      "cell_type": "code",
      "source": [
        "from google.colab import files\n",
        "files.download('output.mp4')\n"
      ],
      "metadata": {
        "id": "iZMcdOFDRt31",
        "outputId": "293a6227-c493-45ef-b810-6f832601c275",
        "colab": {
          "base_uri": "https://localhost:8080/",
          "height": 17
        }
      },
      "execution_count": 33,
      "outputs": [
        {
          "output_type": "display_data",
          "data": {
            "text/plain": [
              "<IPython.core.display.Javascript object>"
            ],
            "application/javascript": [
              "\n",
              "    async function download(id, filename, size) {\n",
              "      if (!google.colab.kernel.accessAllowed) {\n",
              "        return;\n",
              "      }\n",
              "      const div = document.createElement('div');\n",
              "      const label = document.createElement('label');\n",
              "      label.textContent = `Downloading \"${filename}\": `;\n",
              "      div.appendChild(label);\n",
              "      const progress = document.createElement('progress');\n",
              "      progress.max = size;\n",
              "      div.appendChild(progress);\n",
              "      document.body.appendChild(div);\n",
              "\n",
              "      const buffers = [];\n",
              "      let downloaded = 0;\n",
              "\n",
              "      const channel = await google.colab.kernel.comms.open(id);\n",
              "      // Send a message to notify the kernel that we're ready.\n",
              "      channel.send({})\n",
              "\n",
              "      for await (const message of channel.messages) {\n",
              "        // Send a message to notify the kernel that we're ready.\n",
              "        channel.send({})\n",
              "        if (message.buffers) {\n",
              "          for (const buffer of message.buffers) {\n",
              "            buffers.push(buffer);\n",
              "            downloaded += buffer.byteLength;\n",
              "            progress.value = downloaded;\n",
              "          }\n",
              "        }\n",
              "      }\n",
              "      const blob = new Blob(buffers, {type: 'application/binary'});\n",
              "      const a = document.createElement('a');\n",
              "      a.href = window.URL.createObjectURL(blob);\n",
              "      a.download = filename;\n",
              "      div.appendChild(a);\n",
              "      a.click();\n",
              "      div.remove();\n",
              "    }\n",
              "  "
            ]
          },
          "metadata": {}
        },
        {
          "output_type": "display_data",
          "data": {
            "text/plain": [
              "<IPython.core.display.Javascript object>"
            ],
            "application/javascript": [
              "download(\"download_e09781a7-2232-4999-b20a-b58f9a7047a7\", \"output.mp4\", 299137)"
            ]
          },
          "metadata": {}
        }
      ]
    }
  ]
}